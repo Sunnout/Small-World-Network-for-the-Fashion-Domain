{
 "cells": [
  {
   "cell_type": "code",
   "execution_count": 1,
   "metadata": {},
   "outputs": [
    {
     "name": "stdout",
     "output_type": "stream",
     "text": [
      "Imports Finished!\n"
     ]
    }
   ],
   "source": [
    "from Code.SmallWorldGraph import SmallWorldGraph\n",
    "from Code.DataManager import DataManager as dm\n",
    "from Code.Constants import VGG16_BLOCK2_POOL_LAYER, VGG16_BLOCK3_POOL_LAYER, VGG16_BLOCK4_POOL_LAYER\n",
    "\n",
    "print(\"Imports Finished!\")"
   ]
  },
  {
   "cell_type": "code",
   "execution_count": null,
   "metadata": {},
   "outputs": [],
   "source": [
    "# Running all the pipeline, creating the graph at the end\n",
    "sw = SmallWorldGraph(update=False, compute_final_distances=True, \n",
    "                     layers=[VGG16_BLOCK2_POOL_LAYER, VGG16_BLOCK3_POOL_LAYER, VGG16_BLOCK4_POOL_LAYER])\n",
    "\n",
    "print(\"Created graph!\")"
   ]
  },
  {
   "cell_type": "code",
   "execution_count": null,
   "metadata": {},
   "outputs": [],
   "source": [
    "sw.show_feature_neighbours(dm.get_img_index(\"img_00000006.jpg\"), graph_name=\"img006_block2.pdf\", feat=VGG16_BLOCK2_POOL_LAYER)\n",
    "sw.show_feature_neighbours(dm.get_img_index(\"img_00000006.jpg\"), graph_name=\"img006_block3.pdf\", feat=VGG16_BLOCK3_POOL_LAYER)\n",
    "sw.show_feature_neighbours(dm.get_img_index(\"img_00000006.jpg\"), graph_name=\"img006_block4.pdf\", feat=VGG16_BLOCK4_POOL_LAYER)"
   ]
  },
  {
   "cell_type": "code",
   "execution_count": null,
   "metadata": {},
   "outputs": [],
   "source": [
    "sw.show_full_graph(img_size=0.025)"
   ]
  },
  {
   "cell_type": "code",
   "execution_count": null,
   "metadata": {},
   "outputs": [],
   "source": [
    "sw.show_node_neighbours(dm.get_img_index(\"img_00000001.jpg\"), graph_name=\"001_node_neighbours.pdf\");"
   ]
  },
  {
   "cell_type": "code",
   "execution_count": null,
   "metadata": {},
   "outputs": [],
   "source": []
  }
 ],
 "metadata": {
  "kernelspec": {
   "display_name": "Python 3",
   "language": "python",
   "name": "python3"
  },
  "language_info": {
   "codemirror_mode": {
    "name": "ipython",
    "version": 3
   },
   "file_extension": ".py",
   "mimetype": "text/x-python",
   "name": "python",
   "nbconvert_exporter": "python",
   "pygments_lexer": "ipython3",
   "version": "3.7.3"
  }
 },
 "nbformat": 4,
 "nbformat_minor": 4
}
