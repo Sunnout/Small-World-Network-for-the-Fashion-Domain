{
 "cells": [
  {
   "cell_type": "code",
   "execution_count": 1,
   "metadata": {},
   "outputs": [
    {
     "name": "stdout",
     "output_type": "stream",
     "text": [
      "Import Finished!\n"
     ]
    }
   ],
   "source": [
    "from SmallWorldGraph import SmallWorldGraph\n",
    "from DataManager import DataManager as dm\n",
    "\n",
    "print(\"Imports Finished!\")"
   ]
  },
  {
   "cell_type": "code",
   "execution_count": null,
   "metadata": {},
   "outputs": [],
   "source": [
    "# Run all the pipeline, creating the graph at the end\n",
    "sw = SmallWorldGraph(False)"
   ]
  },
  {
   "cell_type": "code",
   "execution_count": null,
   "metadata": {},
   "outputs": [],
   "source": [
    "sw.draw_neighbours(dm.get_img_index(\"img_00000000.jpg\"), graph_name=\"img00_block1.pdf\", feat=\"vgg1\")\n",
    "sw.draw_neighbours(dm.get_img_index(\"img_00000000.jpg\"), graph_name=\"img00_block2.pdf\", feat=\"vgg2\")\n",
    "sw.draw_neighbours(dm.get_img_index(\"img_00000000.jpg\"), graph_name=\"img00_block3.pdf\", feat=\"vgg3\")"
   ]
  },
  {
   "cell_type": "code",
   "execution_count": null,
   "metadata": {},
   "outputs": [],
   "source": [
    "SmallWorldGraph.show_graph(sw.graph)"
   ]
  }
 ],
 "metadata": {
  "kernelspec": {
   "display_name": "Python 3",
   "language": "python",
   "name": "python3"
  },
  "language_info": {
   "codemirror_mode": {
    "name": "ipython",
    "version": 3
   },
   "file_extension": ".py",
   "mimetype": "text/x-python",
   "name": "python",
   "nbconvert_exporter": "python",
   "pygments_lexer": "ipython3",
   "version": "3.6.10"
  }
 },
 "nbformat": 4,
 "nbformat_minor": 4
}
