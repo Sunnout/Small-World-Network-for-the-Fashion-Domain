{
 "cells": [
  {
   "cell_type": "code",
   "execution_count": 1,
   "metadata": {},
   "outputs": [
    {
     "name": "stdout",
     "output_type": "stream",
     "text": [
      "Import Finished!\n"
     ]
    }
   ],
   "source": [
    "import os\n",
    "\n",
    "from SmallWorldGraph import SmallWorldGraph\n",
    "from DataManager import DataManager as dm\n",
    "\n",
    "if not os.path.exists(\"../Results\"):\n",
    "  os.makedirs(\"../Results\")\n",
    "\n",
    "if not os.path.exists(\"../Files\"):\n",
    "  os.makedirs(\"../Files\")\n",
    "        \n",
    "\n",
    "sw = SmallWorldGraph(False)\n",
    "sw.draw_neighbours(dm.get_img_index(\"img_00000000.jpg\"), graph_name=\"img00_block1.pdf\", feat=\"vgg1\")\n",
    "sw.draw_neighbours(dm.get_img_index(\"img_00000000.jpg\"), graph_name=\"img00_block2.pdf\", feat=\"vgg2\")\n",
    "sw.draw_neighbours(dm.get_img_index(\"img_00000000.jpg\"), graph_name=\"img00_block3.pdf\", feat=\"vgg3\")"
   ]
  }
 ],
 "metadata": {
  "kernelspec": {
   "display_name": "Python 3",
   "language": "python",
   "name": "python3"
  },
  "language_info": {
   "codemirror_mode": {
    "name": "ipython",
    "version": 3
   },
   "file_extension": ".py",
   "mimetype": "text/x-python",
   "name": "python",
   "nbconvert_exporter": "python",
   "pygments_lexer": "ipython3",
   "version": "3.7.3"
  }
 },
 "nbformat": 4,
 "nbformat_minor": 4
}
